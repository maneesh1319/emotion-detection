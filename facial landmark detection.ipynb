{
 "cells": [
  {
   "cell_type": "code",
   "execution_count": null,
   "metadata": {},
   "outputs": [],
   "source": [
    "import dlib\n",
    "import numpy as np\n",
    "frontalface_detector = dlib.get_frontal_face_detector()\n",
    "landmark_predictor=dlib.shape_predictor('./shape_predictor_68_face_landmarks.dat')\n",
    "def get_landmarks(image_url):\n",
    "    try:\n",
    "        url_response = urllib.request.urlopen(image_url)\n",
    "        img_array = np.array(bytearray(url_response.read()), dtype=np.uint8)\n",
    "        image = cv2.imdecode(img_array, -1)\n",
    "    except Exception as e:\n",
    "        print (\"Please check the URL and try again!\")\n",
    "        return None,None\n",
    "    faces = frontalface_detector(image, 1)\n",
    "    if len(faces):\n",
    "        landmarks = [(p.x, p.y) for p in landmark_predictor(image, faces[0]).parts()]\n",
    "    else:\n",
    "        return None,None\n",
    "    \n",
    "    return image,landmarks\n",
    "def image_landmarks(image,face_landmarks):\n",
    "    radius = -1\n",
    "    circle_thickness = 4\n",
    "    image_copy = image.copy()\n",
    "    for (x, y) in face_landmarks:\n",
    "        cv2.circle(image_copy, (x, y), circle_thickness, (255,0,0), radius)\n",
    "        plt.imshow(image_copy, interpolation='nearest')\n",
    "        plt.axis('off')\n",
    "        plt.show()\n",
    "        "
   ]
  }
 ],
 "metadata": {
  "kernelspec": {
   "display_name": "Python 3",
   "language": "python",
   "name": "python3"
  },
  "language_info": {
   "codemirror_mode": {
    "name": "ipython",
    "version": 3
   },
   "file_extension": ".py",
   "mimetype": "text/x-python",
   "name": "python",
   "nbconvert_exporter": "python",
   "pygments_lexer": "ipython3",
   "version": "3.8.5"
  }
 },
 "nbformat": 4,
 "nbformat_minor": 4
}
