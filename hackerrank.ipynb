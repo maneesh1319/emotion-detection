{
 "cells": [
  {
   "cell_type": "code",
   "execution_count": 47,
   "metadata": {},
   "outputs": [
    {
     "name": "stdout",
     "output_type": "stream",
     "text": [
      "[1, 0, 0]\n",
      "15\n",
      "[1, 2, 0]\n",
      "13\n",
      "[1, 2, 3]\n",
      "10\n",
      "[5, 2, 3]\n",
      "6\n",
      "[5, 7, 3]\n",
      "1\n",
      "[5, 7, 4]\n"
     ]
    }
   ],
   "source": [
    "n=16\n",
    "k=3\n",
    "l=[0]*k\n",
    "i=0\n",
    "a=0\n",
    "while(n>=a+j+2):\n",
    "    j=i%k\n",
    "    l[j]=l[j]+a+j+1\n",
    "    print(l)\n",
    "    n=n-(a+j+1)\n",
    "    print(n)\n",
    "    i=i+1\n",
    "    if(j==k-1):\n",
    "        a=k\n",
    "j=(i)%k\n",
    "l[j]=l[j]+n\n",
    "n=0\n",
    "    \n",
    "print(l)"
   ]
  },
  {
   "cell_type": "code",
   "execution_count": null,
   "metadata": {},
   "outputs": [],
   "source": []
  },
  {
   "cell_type": "code",
   "execution_count": null,
   "metadata": {},
   "outputs": [],
   "source": []
  },
  {
   "cell_type": "code",
   "execution_count": null,
   "metadata": {},
   "outputs": [],
   "source": []
  },
  {
   "cell_type": "code",
   "execution_count": null,
   "metadata": {},
   "outputs": [],
   "source": []
  },
  {
   "cell_type": "code",
   "execution_count": 4,
   "metadata": {},
   "outputs": [
    {
     "name": "stdout",
     "output_type": "stream",
     "text": [
      "5\n",
      "a 1 \n",
      "b b 2 \n",
      "c c c 3 \n",
      "d d d d 4 \n",
      "e e e e e 5 \n"
     ]
    }
   ],
   "source": [
    "n=int(input())\n",
    "for i in range(n):\n",
    "    for j in range(i+1):\n",
    "        print(chr(ord('a')+i),end=\" \")\n",
    "    print(i+1,end=\" \")\n",
    "    print(\"\\r\")\n"
   ]
  },
  {
   "cell_type": "code",
   "execution_count": 2,
   "metadata": {},
   "outputs": [
    {
     "name": "stdout",
     "output_type": "stream",
     "text": [
      "a b c d e \n",
      "b c d e \n",
      "c d e \n",
      "d e \n",
      "e \n"
     ]
    }
   ],
   "source": [
    "# Python 3 code for triangular\n",
    "# patterns of alphabets\n",
    "n = 5\n",
    "for i in range(1, n + 1):\n",
    "\tfor j in range(i, n + 1):\n",
    "\t\tprint(chr(ord('a') - 1 + j), end = ' ')\n",
    "\tprint()\n",
    "\n",
    "# This code is contributed\n",
    "# by SamyuktaSHegde\n"
   ]
  },
  {
   "cell_type": "code",
   "execution_count": 50,
   "metadata": {},
   "outputs": [
    {
     "name": "stdout",
     "output_type": "stream",
     "text": [
      "23571113171923293137414347"
     ]
    }
   ],
   "source": [
    "n=50\n",
    "c=0\n",
    "for i in range(n+1):\n",
    "    for j in range(2,i+1):\n",
    "        if(i%j==0):\n",
    "            c=c+1\n",
    "    if(c==1):\n",
    "        print(i,end=\"\")\n",
    "    c=0\n",
    "    "
   ]
  },
  {
   "cell_type": "code",
   "execution_count": 18,
   "metadata": {},
   "outputs": [
    {
     "name": "stdout",
     "output_type": "stream",
     "text": [
      "4\n"
     ]
    }
   ],
   "source": [
    "l=[5,7,2,4,1,6]\n",
    "a=1\n",
    "print(l.index(a))"
   ]
  },
  {
   "cell_type": "code",
   "execution_count": 33,
   "metadata": {},
   "outputs": [
    {
     "name": "stdout",
     "output_type": "stream",
     "text": [
      "[1, 0, 0, 0, 0]\n"
     ]
    }
   ],
   "source": [
    "l=[5,0,2,1,1]\n",
    "n=len(l)\n",
    "for i in range(n):\n",
    "    a=0\n",
    "    t=l[i]\n",
    "    b=0\n",
    "    for j in range(i,n):\n",
    "        if(l[j]<b):\n",
    "            b=l[j]\n",
    "            a=j\n",
    "    l[a]=t\n",
    "    l[i]=b\n",
    "            \n",
    "        \n",
    "print(l)\n",
    "            \n",
    "            "
   ]
  },
  {
   "cell_type": "code",
   "execution_count": 15,
   "metadata": {},
   "outputs": [
    {
     "name": "stdout",
     "output_type": "stream",
     "text": [
      "0\n",
      "1\n",
      "4\n",
      "1\n",
      "2\n",
      "[0, 1, 1, 2, 4, 5]\n"
     ]
    }
   ],
   "source": [
    "l=[5,0,1,4,1,2]\n",
    "n=len(l)\n",
    "for i in range(1,n):\n",
    "    a=l[i]\n",
    "    print(a)\n",
    "    for j in range(i-1,-1,-1):\n",
    "        if(l[j]>l[j+1]):\n",
    "            l[j+1]=l[j]\n",
    "            l[j]=a\n",
    "print(l)"
   ]
  },
  {
   "cell_type": "code",
   "execution_count": 16,
   "metadata": {},
   "outputs": [
    {
     "name": "stdout",
     "output_type": "stream",
     "text": [
      "[1, 1, 2, 5, 6, 7]\n"
     ]
    }
   ],
   "source": [
    "l=[5,7,2,1,1,6]\n",
    "n=len(l)\n",
    "for i in range (n-1):\n",
    "    for j in range(n-1-i):\n",
    "        if(l[j]>l[j+1]):\n",
    "            t=l[j]\n",
    "            l[j]=l[j+1]\n",
    "            l[j+1]=t\n",
    "print(l)"
   ]
  },
  {
   "cell_type": "code",
   "execution_count": 10,
   "metadata": {},
   "outputs": [
    {
     "name": "stdout",
     "output_type": "stream",
     "text": [
      "7\n"
     ]
    }
   ],
   "source": [
    "def countMinOperations(target):\n",
    "    n=len(target)\n",
    "     \n",
    "    # Initialize result (Count of minimum moves)\n",
    "    result = 0\n",
    " \n",
    "    # Keep looping while all elements of\n",
    "    # target don't become 0.\n",
    "    while (True):\n",
    "         \n",
    "        # To store count of zeroes in\n",
    "        # current target array\n",
    "        zero_count = 0\n",
    "     \n",
    "        # To find first odd element\n",
    "        i = 0\n",
    "        while (i < n):\n",
    "             \n",
    "            # If odd number found\n",
    "            if ((target[i] & 1) > 0):\n",
    "                break\n",
    " \n",
    "            # If 0, then increment\n",
    "            # zero_count\n",
    "            elif (target[i] == 0):\n",
    "                zero_count += 1;\n",
    "            i += 1\n",
    " \n",
    "        # All numbers are 0\n",
    "        if (zero_count == n):\n",
    "            return result\n",
    " \n",
    "        # All numbers are even\n",
    "        if (i == n):\n",
    "             \n",
    "            # Divide the whole array by 2\n",
    "            # and increment result\n",
    "            for j in range(n):\n",
    "                target[j] = target[j] // 2\n",
    "            result += 1\n",
    " \n",
    "        # Make all odd numbers even by\n",
    "        # subtracting one and increment result.\n",
    "        for j in range(i, n):\n",
    "            if (target[j] & 1):\n",
    "                target[j] -= 1\n",
    "                result += 1\n",
    " \n",
    "# Driver Code\n",
    "arr = [16, 16, 16];\n",
    "print(countMinOperations(arr));"
   ]
  },
  {
   "cell_type": "code",
   "execution_count": null,
   "metadata": {},
   "outputs": [],
   "source": [
    "def playthegame(target):\n",
    "    n=len(target)"
   ]
  },
  {
   "cell_type": "code",
   "execution_count": 6,
   "metadata": {},
   "outputs": [
    {
     "name": "stdout",
     "output_type": "stream",
     "text": [
      "2\n"
     ]
    }
   ],
   "source": [
    "target=[2]\n",
    "r=0\n",
    "for i in target:\n",
    "    c=0\n",
    "    if(i%2==0):\n",
    "        c=1\n",
    "        a=1\n",
    "        while(c!=i):\n",
    "            c=c*2\n",
    "            a=a+1\n",
    "print(a)\n",
    "\n",
    "            \n",
    "        \n"
   ]
  },
  {
   "cell_type": "code",
   "execution_count": 5,
   "metadata": {},
   "outputs": [
    {
     "name": "stdout",
     "output_type": "stream",
     "text": [
      "[[2, 3], [], [4], [5], []]\n"
     ]
    }
   ],
   "source": [
    "n=5\n",
    "e=4\n",
    "s=\"abaca\"\n",
    "g=[[1,2],[1,3],[3,4],[4,5]]\n",
    "r1=[]\n",
    "for i in range(n):\n",
    "    a=[]\n",
    "    for j in range(len(g)):\n",
    "        if(g[j][0]==i+1):\n",
    "            a.append(g[j][1])\n",
    "    r1.append(a)\n",
    "p=[]\n",
    "for k in range(n):\n",
    "    b=[]\n",
    "    for x in range(len(r1[k])):\n",
    "        c=r1[k][x]\n",
    "            \n",
    "        \n",
    "print(r1)\n",
    "            "
   ]
  },
  {
   "cell_type": "code",
   "execution_count": 3,
   "metadata": {},
   "outputs": [
    {
     "name": "stdout",
     "output_type": "stream",
     "text": [
      "5\n",
      "10 20 30 40 50\n",
      "2\n",
      "[30, 40, 50, 10, 20]\n"
     ]
    }
   ],
   "source": [
    "n=int(input())\n",
    "l=list(map(int,input().split()))\n",
    "k=int(input())\n",
    "r=[]\n",
    "for i in range(k,n):\n",
    "    r.append(l[i])\n",
    "for j in range(k):\n",
    "    r.append(l[j])\n",
    "print(r)\n"
   ]
  },
  {
   "cell_type": "code",
   "execution_count": 15,
   "metadata": {},
   "outputs": [
    {
     "name": "stdout",
     "output_type": "stream",
     "text": [
      "5\n",
      "10 20 30 40 50\n",
      "2\n",
      "[30, 40, 50, 10, 20]\n"
     ]
    }
   ],
   "source": [
    "n=int(input())\n",
    "l=list(map(int,input().split()))\n",
    "k=int(input())\n",
    "#\n",
    "i=0\n",
    "while(i<k):\n",
    "    a=l[0]\n",
    "    l.pop(0)\n",
    "    l.append(a)\n",
    "    i=i+1\n",
    "print(l)"
   ]
  },
  {
   "cell_type": "markdown",
   "metadata": {},
   "source": [
    "### s=input()\n",
    "r=[]\n",
    "for i in s:\n",
    "    c=0\n",
    "    for j in s:\n",
    "        if i==j and i!=\" \":\n",
    "            c=c+1\n",
    "            \n",
    "    if i in r:\n",
    "        continue\n",
    "    if c>1:\n",
    "        r.append(i)\n",
    "for i in r:        \n",
    "    print(i,end=\"\")"
   ]
  },
  {
   "cell_type": "code",
   "execution_count": 12,
   "metadata": {},
   "outputs": [
    {
     "name": "stdout",
     "output_type": "stream",
     "text": [
      "[12]\n"
     ]
    }
   ],
   "source": [
    "a=[]\n",
    "a.append(12)\n",
    "print(a)"
   ]
  },
  {
   "cell_type": "code",
   "execution_count": 4,
   "metadata": {},
   "outputs": [
    {
     "name": "stdout",
     "output_type": "stream",
     "text": [
      "abcd\n"
     ]
    }
   ],
   "source": [
    "a=\"abcde\"\n",
    "b=a[0:4]\n",
    "print(a[0:4])"
   ]
  },
  {
   "cell_type": "code",
   "execution_count": 2,
   "metadata": {},
   "outputs": [
    {
     "name": "stdout",
     "output_type": "stream",
     "text": [
      "abcd\n",
      "ef\n"
     ]
    }
   ],
   "source": [
    "string=\"abcdef\"\n",
    "max_width=4\n",
    "a=0\n",
    "c=max_width\n",
    "i=1\n",
    "k=len(string)\n",
    "while(k>max_width):\n",
    "    b=string[a:c]\n",
    "    a=i*max_width\n",
    "    c=(i+1)*max_width\n",
    "    i+=1\n",
    "    k=k-4\n",
    "    print(b)\n",
    "print(string[a:c])"
   ]
  },
  {
   "cell_type": "code",
   "execution_count": 12,
   "metadata": {},
   "outputs": [
    {
     "name": "stdout",
     "output_type": "stream",
     "text": [
      "abcdefgh\n",
      "4\n",
      "['abcd', 'efgh']\n"
     ]
    }
   ],
   "source": [
    "def wrap(string, max_width):\n",
    "    a=0\n",
    "    c=max_width\n",
    "    i=1\n",
    "    k=len(string)\n",
    "    z=list()\n",
    "    while(k>=max_width):\n",
    "        b=string[a:c]\n",
    "        a=i*max_width\n",
    "        c=(i+1)*max_width\n",
    "        i+=1\n",
    "        k=k-max_width\n",
    "        z.append(b)\n",
    "    return z\n",
    "\n",
    "if __name__ == '__main__':\n",
    "    string, max_width = input(), int(input())\n",
    "    result = wrap(string, max_width)\n",
    "    print(result)"
   ]
  },
  {
   "cell_type": "code",
   "execution_count": null,
   "metadata": {},
   "outputs": [],
   "source": []
  },
  {
   "cell_type": "code",
   "execution_count": 35,
   "metadata": {},
   "outputs": [
    {
     "name": "stdout",
     "output_type": "stream",
     "text": [
      "---------.|.---------\r\n",
      "------.|..|..|.------\r\n",
      "---.|..|..|..|..|.---\r\n",
      "-------WELCOME-------\r\n",
      "---.|..|..|..|..|.---\r\n",
      "------.|..|..|.------\r\n",
      "---------.|.---------\r\n"
     ]
    }
   ],
   "source": [
    "n=7\n",
    "m=21\n",
    "for i in range(1,n//2+1):\n",
    "    b=(m-3*((2*i)-1))//2\n",
    "    for j in range(b,0,-1):\n",
    "        print(\"-\",end=\"\")\n",
    "    for k in range(0,(2*i)-1):\n",
    "        print(\".|.\",end=\"\")\n",
    "    for l in range(b,0,-1):\n",
    "        print(\"-\",end=\"\")\n",
    "    print(\"\\r\")\n",
    "c=(m-7)//2\n",
    "for i in range(0,c):\n",
    "    print(\"-\",end=\"\")\n",
    "print(\"WELCOME\",end=\"\")\n",
    "for i in range(0,c):\n",
    "    print(\"-\",end=\"\")\n",
    "print(\"\\r\")\n",
    "for i in range(1,n//2+1):\n",
    "    b=3*i\n",
    "    for j in range(0,b):\n",
    "        print(\"-\",end=\"\")\n",
    "    for k in range(0,(n-1)-(2*i-1)):\n",
    "        print(\".|.\",end=\"\")\n",
    "    for l in range(0,b):\n",
    "        print(\"-\",end=\"\")\n",
    "    print(\"\\r\")\n"
   ]
  },
  {
   "cell_type": "code",
   "execution_count": null,
   "metadata": {},
   "outputs": [],
   "source": [
    "a=input()\n",
    "a=a.split()\n",
    "a=int(a)\n",
    "a=list(a)\n",
    "a=list(int,input().spli())\n"
   ]
  },
  {
   "cell_type": "code",
   "execution_count": 2,
   "metadata": {},
   "outputs": [
    {
     "name": "stdout",
     "output_type": "stream",
     "text": [
      "2\n"
     ]
    }
   ],
   "source": [
    "s=\"ABCDCDC\"\n",
    "s1=\"CDC\"\n",
    "c=0\n",
    "for i in range(0,len(s)):\n",
    "    if(s[i:i+3]==s1):\n",
    "        c=c+1\n",
    "print(c)"
   ]
  },
  {
   "cell_type": "code",
   "execution_count": 35,
   "metadata": {},
   "outputs": [
    {
     "name": "stdout",
     "output_type": "stream",
     "text": [
      "11\n",
      "MAN 1AM DAM\n"
     ]
    },
    {
     "ename": "AttributeError",
     "evalue": "'str' object has no attribute 'append'",
     "output_type": "error",
     "traceback": [
      "\u001b[1;31m---------------------------------------------------------------------------\u001b[0m",
      "\u001b[1;31mAttributeError\u001b[0m                            Traceback (most recent call last)",
      "\u001b[1;32m<ipython-input-35-212f385489e2>\u001b[0m in \u001b[0;36m<module>\u001b[1;34m\u001b[0m\n\u001b[0;32m      6\u001b[0m     \u001b[1;32mif\u001b[0m \u001b[0ms\u001b[0m\u001b[1;33m[\u001b[0m\u001b[0mi\u001b[0m\u001b[1;33m]\u001b[0m\u001b[1;33m==\u001b[0m\u001b[1;34m\" \"\u001b[0m\u001b[1;33m:\u001b[0m\u001b[1;33m\u001b[0m\u001b[1;33m\u001b[0m\u001b[0m\n\u001b[0;32m      7\u001b[0m         \u001b[0ma\u001b[0m\u001b[1;33m=\u001b[0m\u001b[0ms\u001b[0m\u001b[1;33m[\u001b[0m\u001b[0mi\u001b[0m\u001b[1;33m+\u001b[0m\u001b[1;36m1\u001b[0m\u001b[1;33m]\u001b[0m\u001b[1;33m.\u001b[0m\u001b[0mupper\u001b[0m\u001b[1;33m(\u001b[0m\u001b[1;33m)\u001b[0m\u001b[1;33m\u001b[0m\u001b[1;33m\u001b[0m\u001b[0m\n\u001b[1;32m----> 8\u001b[1;33m         \u001b[0ms\u001b[0m\u001b[1;33m.\u001b[0m\u001b[0mappend\u001b[0m\u001b[1;33m(\u001b[0m\u001b[0mi\u001b[0m\u001b[1;33m+\u001b[0m\u001b[1;36m1\u001b[0m\u001b[1;33m,\u001b[0m\u001b[0ma\u001b[0m\u001b[1;33m)\u001b[0m\u001b[1;33m\u001b[0m\u001b[1;33m\u001b[0m\u001b[0m\n\u001b[0m\u001b[0;32m      9\u001b[0m \u001b[1;33m\u001b[0m\u001b[0m\n\u001b[0;32m     10\u001b[0m \u001b[1;33m\u001b[0m\u001b[0m\n",
      "\u001b[1;31mAttributeError\u001b[0m: 'str' object has no attribute 'append'"
     ]
    }
   ],
   "source": [
    "s=\"man 1am dam\"\n",
    "print(len(s))\n",
    "s.upper()\n",
    "print(s.upper())\n",
    "for i in range (len(s)):\n",
    "    if s[i]==\" \":\n",
    "        a=s[i+1].upper()\n",
    "        \n",
    "        s.append(i+1,a)\n",
    "        \n",
    "        \n",
    "print(s)\n",
    "\n",
    "    "
   ]
  },
  {
   "cell_type": "code",
   "execution_count": 32,
   "metadata": {},
   "outputs": [
    {
     "name": "stdout",
     "output_type": "stream",
     "text": [
      "M\n"
     ]
    }
   ],
   "source": [
    "s=\"man_cam\"\n",
    "a=s[0].upper()\n",
    "#print(a=s[0].upper())\n",
    "print(a)"
   ]
  },
  {
   "cell_type": "code",
   "execution_count": 50,
   "metadata": {},
   "outputs": [
    {
     "ename": "IndexError",
     "evalue": "list index out of range",
     "output_type": "error",
     "traceback": [
      "\u001b[1;31m---------------------------------------------------------------------------\u001b[0m",
      "\u001b[1;31mIndexError\u001b[0m                                Traceback (most recent call last)",
      "\u001b[1;32m<ipython-input-50-76415ad7178a>\u001b[0m in \u001b[0;36m<module>\u001b[1;34m\u001b[0m\n\u001b[0;32m      3\u001b[0m \u001b[1;32mfor\u001b[0m \u001b[0mi\u001b[0m \u001b[1;32min\u001b[0m \u001b[0mrange\u001b[0m\u001b[1;33m(\u001b[0m\u001b[0mm\u001b[0m\u001b[1;33m)\u001b[0m\u001b[1;33m:\u001b[0m\u001b[1;33m\u001b[0m\u001b[1;33m\u001b[0m\u001b[0m\n\u001b[0;32m      4\u001b[0m     \u001b[1;32mfor\u001b[0m \u001b[0mj\u001b[0m \u001b[1;32min\u001b[0m \u001b[0mrange\u001b[0m\u001b[1;33m(\u001b[0m\u001b[0mi\u001b[0m\u001b[1;33m+\u001b[0m\u001b[1;36m1\u001b[0m\u001b[1;33m,\u001b[0m\u001b[0mm\u001b[0m\u001b[1;33m)\u001b[0m\u001b[1;33m:\u001b[0m\u001b[1;33m\u001b[0m\u001b[1;33m\u001b[0m\u001b[0m\n\u001b[1;32m----> 5\u001b[1;33m         \u001b[1;32mif\u001b[0m \u001b[1;33m(\u001b[0m\u001b[0ml\u001b[0m\u001b[1;33m[\u001b[0m\u001b[0mi\u001b[0m\u001b[1;33m]\u001b[0m\u001b[1;33m==\u001b[0m\u001b[0ml\u001b[0m\u001b[1;33m[\u001b[0m\u001b[0mj\u001b[0m\u001b[1;33m]\u001b[0m\u001b[1;33m)\u001b[0m\u001b[1;33m:\u001b[0m\u001b[1;33m\u001b[0m\u001b[1;33m\u001b[0m\u001b[0m\n\u001b[0m\u001b[0;32m      6\u001b[0m             \u001b[0mm\u001b[0m\u001b[1;33m=\u001b[0m\u001b[0mm\u001b[0m\u001b[1;33m-\u001b[0m\u001b[1;36m1\u001b[0m\u001b[1;33m\u001b[0m\u001b[1;33m\u001b[0m\u001b[0m\n\u001b[0;32m      7\u001b[0m             \u001b[0ml\u001b[0m\u001b[1;33m.\u001b[0m\u001b[0mpop\u001b[0m\u001b[1;33m(\u001b[0m\u001b[0mj\u001b[0m\u001b[1;33m)\u001b[0m\u001b[1;33m\u001b[0m\u001b[1;33m\u001b[0m\u001b[0m\n",
      "\u001b[1;31mIndexError\u001b[0m: list index out of range"
     ]
    }
   ],
   "source": [
    "l=[5,3,3,3,3,3,4,3,4,5]\n",
    "m=len(l)\n",
    "for i in range(m):\n",
    "    for j in range(i+1,m):\n",
    "        if (l[i]==l[j]):\n",
    "            m=m-1\n",
    "            l.pop(j)\n",
    "            if(j+1==m):\n",
    "                break\n",
    "print(l)"
   ]
  },
  {
   "cell_type": "code",
   "execution_count": 55,
   "metadata": {},
   "outputs": [
    {
     "name": "stdout",
     "output_type": "stream",
     "text": [
      "[5, 3, 4]\n"
     ]
    }
   ],
   "source": [
    "l=[5,3,3,3,3,4,4,4,4,4,4,4,4,4,5]\n",
    "r=[]\n",
    "\n",
    "r.append(l[0])\n",
    "for i in l:\n",
    "    c=0\n",
    "    for j in range(len(r)):\n",
    "        if(i==r[j]):\n",
    "            c=+1\n",
    "    if(c==0):\n",
    "        r.append(i)\n",
    "print(r)"
   ]
  },
  {
   "cell_type": "code",
   "execution_count": 4,
   "metadata": {},
   "outputs": [
    {
     "name": "stdout",
     "output_type": "stream",
     "text": [
      "man ssman\n",
      "m 2\n",
      "None\n"
     ]
    }
   ],
   "source": [
    "def find_duplicate(n):\n",
    "    for char in n :\n",
    "        counts=n.count(char)\n",
    "        while counts > 1:\n",
    "            return print(char,counts)\n",
    "n=input()\n",
    "print(find_duplicate(n))"
   ]
  },
  {
   "cell_type": "code",
   "execution_count": 6,
   "metadata": {},
   "outputs": [
    {
     "name": "stdout",
     "output_type": "stream",
     "text": [
      "[5, 6]\n",
      "[5, 7]\n"
     ]
    }
   ],
   "source": [
    "l1=[[1,2],[5,6],[3,4]]\n",
    "l2=[[3,4],[5,7],[1,2]]\n",
    "for i in l1:\n",
    "    if i not in l2:\n",
    "        print(i)\n",
    "for j in l2:\n",
    "    if j not in l1:\n",
    "        print(j)"
   ]
  },
  {
   "cell_type": "code",
   "execution_count": 13,
   "metadata": {},
   "outputs": [
    {
     "name": "stdout",
     "output_type": "stream",
     "text": [
      "[[6, 1, 4], [8, 7], [8, 10, 4]]\n"
     ]
    }
   ],
   "source": [
    "l=[[4,1,6],[7,8],[4,10,8]]\n",
    "a=[]\n",
    "for i in l:\n",
    "    i.reverse()\n",
    "    a.append(i)\n",
    "print(a)\n",
    "    "
   ]
  },
  {
   "cell_type": "code",
   "execution_count": null,
   "metadata": {},
   "outputs": [],
   "source": [
    "l=[[4,1,6],[7,8],[4,10,8]]\n",
    "a=[]\n",
    "for i in l:\n",
    "    for j in range(len(i)):\n",
    "        a[j].append(i[])\n",
    "    i.reverse()\n",
    "    a.append(i)\n",
    "print(a)"
   ]
  },
  {
   "cell_type": "code",
   "execution_count": 7,
   "metadata": {},
   "outputs": [
    {
     "name": "stdout",
     "output_type": "stream",
     "text": [
      "5\n",
      "10\n",
      "30\n",
      "45\n",
      "67\n",
      "60\n",
      "[45, 67, 10, 30, 60]\n"
     ]
    }
   ],
   "source": [
    "n=int(input())\n",
    "l=[]\n",
    "for i in range(n):\n",
    "    a=int(input())\n",
    "    l.append(a)\n",
    "l1=[]\n",
    "for i in l:\n",
    "    if(i%10==0):\n",
    "        l1.append(i)\n",
    "r=[]\n",
    "for i in range(n):\n",
    "    if (l[i]%10!=0):\n",
    "        r.append(l[i])\n",
    "r=r+l1\n",
    "print(r)\n",
    "    \n",
    "    "
   ]
  },
  {
   "cell_type": "code",
   "execution_count": 19,
   "metadata": {},
   "outputs": [
    {
     "name": "stdout",
     "output_type": "stream",
     "text": [
      "4\n"
     ]
    }
   ],
   "source": [
    "l=[11,22,34,55,66,78,98]\n",
    "c=0\n",
    "for i in l:\n",
    "    a=str(i)\n",
    "    if(a[0]==a[1]):\n",
    "        c=c+1\n",
    "print(c)"
   ]
  },
  {
   "cell_type": "code",
   "execution_count": 17,
   "metadata": {},
   "outputs": [
    {
     "name": "stdout",
     "output_type": "stream",
     "text": [
      "4\n"
     ]
    }
   ],
   "source": [
    "l=[11,22,34,55,66,78,98]\n",
    "c=0\n",
    "for i in l:\n",
    "    a=i%10\n",
    "    b=i//10\n",
    "    if(a==b):\n",
    "        c=c+1\n",
    "print(c)"
   ]
  },
  {
   "cell_type": "code",
   "execution_count": 24,
   "metadata": {},
   "outputs": [
    {
     "name": "stdout",
     "output_type": "stream",
     "text": [
      "3\n",
      "100\n",
      "101\n",
      "100\n",
      "304\n",
      "100\n",
      "1\n",
      "524\n",
      "2\n"
     ]
    }
   ],
   "source": [
    "n=int(input())\n",
    "e=int(input())\n",
    "p=[]\n",
    "b=list()\n",
    "for i in range(n):\n",
    "    a=int(input())\n",
    "    p.append(a)\n",
    "for j in range(n):\n",
    "    d=int(input())\n",
    "    b.append(d)\n",
    "c=0\n",
    "for i in range(n):\n",
    "    k=min(p)\n",
    "    z=p.index(k)\n",
    "    if(k<=e):\n",
    "        e=e+b[z]\n",
    "        c=c+1\n",
    "        p.remove(k)\n",
    "print(c)\n",
    "        \n",
    "\n",
    "    "
   ]
  },
  {
   "cell_type": "code",
   "execution_count": 27,
   "metadata": {},
   "outputs": [
    {
     "name": "stdout",
     "output_type": "stream",
     "text": [
      "3\n",
      "3\n",
      "5\n"
     ]
    }
   ],
   "source": [
    "n=int(input())\n",
    "k=int(input())\n",
    "c=0\n",
    "for i in range(1,n+1):\n",
    "    for j in range(1,n+1):\n",
    "        if(i*j<=n):\n",
    "            c=c+1\n",
    "print(c)    "
   ]
  },
  {
   "cell_type": "code",
   "execution_count": 56,
   "metadata": {},
   "outputs": [
    {
     "ename": "UnboundLocalError",
     "evalue": "local variable 'r' referenced before assignment",
     "output_type": "error",
     "traceback": [
      "\u001b[1;31m---------------------------------------------------------------------------\u001b[0m",
      "\u001b[1;31mUnboundLocalError\u001b[0m                         Traceback (most recent call last)",
      "\u001b[1;32m<ipython-input-56-ce2531a37fce>\u001b[0m in \u001b[0;36m<module>\u001b[1;34m\u001b[0m\n\u001b[0;32m     19\u001b[0m \u001b[0mlou\u001b[0m\u001b[1;33m=\u001b[0m\u001b[1;33m[\u001b[0m\u001b[1;33m]\u001b[0m\u001b[1;33m\u001b[0m\u001b[1;33m\u001b[0m\u001b[0m\n\u001b[0;32m     20\u001b[0m \u001b[1;33m\u001b[0m\u001b[0m\n\u001b[1;32m---> 21\u001b[1;33m \u001b[0marr\u001b[0m\u001b[1;33m(\u001b[0m\u001b[0mlin\u001b[0m\u001b[1;33m,\u001b[0m\u001b[0mk\u001b[0m\u001b[1;33m,\u001b[0m\u001b[0mlou\u001b[0m\u001b[1;33m,\u001b[0m\u001b[1;36m0\u001b[0m\u001b[1;33m,\u001b[0m\u001b[0mn\u001b[0m\u001b[1;33m)\u001b[0m\u001b[1;33m\u001b[0m\u001b[1;33m\u001b[0m\u001b[0m\n\u001b[0m",
      "\u001b[1;32m<ipython-input-56-ce2531a37fce>\u001b[0m in \u001b[0;36marr\u001b[1;34m(lin, k, lou, i, n)\u001b[0m\n\u001b[0;32m     11\u001b[0m     \u001b[1;32mfor\u001b[0m \u001b[0mj\u001b[0m \u001b[1;32min\u001b[0m \u001b[0mrange\u001b[0m\u001b[1;33m(\u001b[0m\u001b[0mi\u001b[0m\u001b[1;33m,\u001b[0m\u001b[0mn\u001b[0m\u001b[1;33m)\u001b[0m\u001b[1;33m:\u001b[0m\u001b[1;33m\u001b[0m\u001b[1;33m\u001b[0m\u001b[0m\n\u001b[0;32m     12\u001b[0m         \u001b[0mlou\u001b[0m\u001b[1;33m.\u001b[0m\u001b[0mappend\u001b[0m\u001b[1;33m(\u001b[0m\u001b[0mlin\u001b[0m\u001b[1;33m[\u001b[0m\u001b[0mj\u001b[0m\u001b[1;33m]\u001b[0m\u001b[1;33m)\u001b[0m\u001b[1;33m\u001b[0m\u001b[1;33m\u001b[0m\u001b[0m\n\u001b[1;32m---> 13\u001b[1;33m         \u001b[0marr\u001b[0m\u001b[1;33m(\u001b[0m\u001b[0mlin\u001b[0m\u001b[1;33m,\u001b[0m\u001b[0mk\u001b[0m\u001b[1;33m,\u001b[0m\u001b[0mlou\u001b[0m\u001b[1;33m,\u001b[0m\u001b[0mj\u001b[0m\u001b[1;33m,\u001b[0m\u001b[0mn\u001b[0m\u001b[1;33m)\u001b[0m\u001b[1;33m\u001b[0m\u001b[1;33m\u001b[0m\u001b[0m\n\u001b[0m\u001b[0;32m     14\u001b[0m         \u001b[0mlou\u001b[0m\u001b[1;33m.\u001b[0m\u001b[0mpop\u001b[0m\u001b[1;33m(\u001b[0m\u001b[1;33m)\u001b[0m\u001b[1;33m\u001b[0m\u001b[1;33m\u001b[0m\u001b[0m\n\u001b[0;32m     15\u001b[0m     \u001b[1;31m#return r\u001b[0m\u001b[1;33m\u001b[0m\u001b[1;33m\u001b[0m\u001b[1;33m\u001b[0m\u001b[0m\n",
      "\u001b[1;32m<ipython-input-56-ce2531a37fce>\u001b[0m in \u001b[0;36marr\u001b[1;34m(lin, k, lou, i, n)\u001b[0m\n\u001b[0;32m     11\u001b[0m     \u001b[1;32mfor\u001b[0m \u001b[0mj\u001b[0m \u001b[1;32min\u001b[0m \u001b[0mrange\u001b[0m\u001b[1;33m(\u001b[0m\u001b[0mi\u001b[0m\u001b[1;33m,\u001b[0m\u001b[0mn\u001b[0m\u001b[1;33m)\u001b[0m\u001b[1;33m:\u001b[0m\u001b[1;33m\u001b[0m\u001b[1;33m\u001b[0m\u001b[0m\n\u001b[0;32m     12\u001b[0m         \u001b[0mlou\u001b[0m\u001b[1;33m.\u001b[0m\u001b[0mappend\u001b[0m\u001b[1;33m(\u001b[0m\u001b[0mlin\u001b[0m\u001b[1;33m[\u001b[0m\u001b[0mj\u001b[0m\u001b[1;33m]\u001b[0m\u001b[1;33m)\u001b[0m\u001b[1;33m\u001b[0m\u001b[1;33m\u001b[0m\u001b[0m\n\u001b[1;32m---> 13\u001b[1;33m         \u001b[0marr\u001b[0m\u001b[1;33m(\u001b[0m\u001b[0mlin\u001b[0m\u001b[1;33m,\u001b[0m\u001b[0mk\u001b[0m\u001b[1;33m,\u001b[0m\u001b[0mlou\u001b[0m\u001b[1;33m,\u001b[0m\u001b[0mj\u001b[0m\u001b[1;33m,\u001b[0m\u001b[0mn\u001b[0m\u001b[1;33m)\u001b[0m\u001b[1;33m\u001b[0m\u001b[1;33m\u001b[0m\u001b[0m\n\u001b[0m\u001b[0;32m     14\u001b[0m         \u001b[0mlou\u001b[0m\u001b[1;33m.\u001b[0m\u001b[0mpop\u001b[0m\u001b[1;33m(\u001b[0m\u001b[1;33m)\u001b[0m\u001b[1;33m\u001b[0m\u001b[1;33m\u001b[0m\u001b[0m\n\u001b[0;32m     15\u001b[0m     \u001b[1;31m#return r\u001b[0m\u001b[1;33m\u001b[0m\u001b[1;33m\u001b[0m\u001b[1;33m\u001b[0m\u001b[0m\n",
      "\u001b[1;32m<ipython-input-56-ce2531a37fce>\u001b[0m in \u001b[0;36marr\u001b[1;34m(lin, k, lou, i, n)\u001b[0m\n\u001b[0;32m     11\u001b[0m     \u001b[1;32mfor\u001b[0m \u001b[0mj\u001b[0m \u001b[1;32min\u001b[0m \u001b[0mrange\u001b[0m\u001b[1;33m(\u001b[0m\u001b[0mi\u001b[0m\u001b[1;33m,\u001b[0m\u001b[0mn\u001b[0m\u001b[1;33m)\u001b[0m\u001b[1;33m:\u001b[0m\u001b[1;33m\u001b[0m\u001b[1;33m\u001b[0m\u001b[0m\n\u001b[0;32m     12\u001b[0m         \u001b[0mlou\u001b[0m\u001b[1;33m.\u001b[0m\u001b[0mappend\u001b[0m\u001b[1;33m(\u001b[0m\u001b[0mlin\u001b[0m\u001b[1;33m[\u001b[0m\u001b[0mj\u001b[0m\u001b[1;33m]\u001b[0m\u001b[1;33m)\u001b[0m\u001b[1;33m\u001b[0m\u001b[1;33m\u001b[0m\u001b[0m\n\u001b[1;32m---> 13\u001b[1;33m         \u001b[0marr\u001b[0m\u001b[1;33m(\u001b[0m\u001b[0mlin\u001b[0m\u001b[1;33m,\u001b[0m\u001b[0mk\u001b[0m\u001b[1;33m,\u001b[0m\u001b[0mlou\u001b[0m\u001b[1;33m,\u001b[0m\u001b[0mj\u001b[0m\u001b[1;33m,\u001b[0m\u001b[0mn\u001b[0m\u001b[1;33m)\u001b[0m\u001b[1;33m\u001b[0m\u001b[1;33m\u001b[0m\u001b[0m\n\u001b[0m\u001b[0;32m     14\u001b[0m         \u001b[0mlou\u001b[0m\u001b[1;33m.\u001b[0m\u001b[0mpop\u001b[0m\u001b[1;33m(\u001b[0m\u001b[1;33m)\u001b[0m\u001b[1;33m\u001b[0m\u001b[1;33m\u001b[0m\u001b[0m\n\u001b[0;32m     15\u001b[0m     \u001b[1;31m#return r\u001b[0m\u001b[1;33m\u001b[0m\u001b[1;33m\u001b[0m\u001b[1;33m\u001b[0m\u001b[0m\n",
      "\u001b[1;32m<ipython-input-56-ce2531a37fce>\u001b[0m in \u001b[0;36marr\u001b[1;34m(lin, k, lou, i, n)\u001b[0m\n\u001b[0;32m      6\u001b[0m                 \u001b[0mc\u001b[0m\u001b[1;33m=\u001b[0m\u001b[0mc\u001b[0m\u001b[1;33m+\u001b[0m\u001b[1;36m1\u001b[0m\u001b[1;33m\u001b[0m\u001b[1;33m\u001b[0m\u001b[0m\n\u001b[0;32m      7\u001b[0m         \u001b[1;32mif\u001b[0m \u001b[0mc\u001b[0m\u001b[1;33m==\u001b[0m\u001b[0mk\u001b[0m\u001b[1;33m-\u001b[0m\u001b[1;36m1\u001b[0m\u001b[1;33m:\u001b[0m\u001b[1;33m\u001b[0m\u001b[1;33m\u001b[0m\u001b[0m\n\u001b[1;32m----> 8\u001b[1;33m             \u001b[0mr\u001b[0m\u001b[1;33m=\u001b[0m\u001b[0mr\u001b[0m\u001b[1;33m+\u001b[0m\u001b[1;36m1\u001b[0m\u001b[1;33m\u001b[0m\u001b[1;33m\u001b[0m\u001b[0m\n\u001b[0m\u001b[0;32m      9\u001b[0m         \u001b[0mprint\u001b[0m\u001b[1;33m(\u001b[0m\u001b[0mr\u001b[0m\u001b[1;33m)\u001b[0m\u001b[1;33m\u001b[0m\u001b[1;33m\u001b[0m\u001b[0m\n\u001b[0;32m     10\u001b[0m         \u001b[1;32mreturn\u001b[0m\u001b[1;33m\u001b[0m\u001b[1;33m\u001b[0m\u001b[0m\n",
      "\u001b[1;31mUnboundLocalError\u001b[0m: local variable 'r' referenced before assignment"
     ]
    }
   ],
   "source": [
    "def arr(lin,k,lou,i,n):\n",
    "    if len(lou)==k:\n",
    "        c=0\n",
    "        for i in range(len(lou)-1):\n",
    "            if(lou[i+1]%lou[i]==0):\n",
    "                c=c+1\n",
    "        if c==k-1:\n",
    "            r=r+1\n",
    "        print(r)\n",
    "        return \n",
    "    for j in range(i,n):\n",
    "        lou.append(lin[j])\n",
    "        arr(lin,k,lou,j,n)\n",
    "        lou.pop()\n",
    "    #return r\n",
    "n=3\n",
    "k=3\n",
    "lin=[1,2,3]\n",
    "lou=[]\n",
    "\n",
    "arr(lin,k,lou,0,n)"
   ]
  },
  {
   "cell_type": "code",
   "execution_count": 75,
   "metadata": {},
   "outputs": [
    {
     "name": "stdout",
     "output_type": "stream",
     "text": [
      "3\n",
      "3\n"
     ]
    },
    {
     "ename": "TypeError",
     "evalue": "combinations() missing required argument 'r' (pos 2)",
     "output_type": "error",
     "traceback": [
      "\u001b[1;31m---------------------------------------------------------------------------\u001b[0m",
      "\u001b[1;31mTypeError\u001b[0m                                 Traceback (most recent call last)",
      "\u001b[1;32m<ipython-input-75-9a4d939c1caa>\u001b[0m in \u001b[0;36m<module>\u001b[1;34m\u001b[0m\n\u001b[0;32m      5\u001b[0m \u001b[1;32mfor\u001b[0m \u001b[0mi\u001b[0m \u001b[1;32min\u001b[0m \u001b[0mrange\u001b[0m\u001b[1;33m(\u001b[0m\u001b[1;36m1\u001b[0m\u001b[1;33m,\u001b[0m\u001b[0mn\u001b[0m\u001b[1;33m+\u001b[0m\u001b[1;36m1\u001b[0m\u001b[1;33m)\u001b[0m\u001b[1;33m:\u001b[0m\u001b[1;33m\u001b[0m\u001b[1;33m\u001b[0m\u001b[0m\n\u001b[0;32m      6\u001b[0m     \u001b[0ml\u001b[0m\u001b[1;33m.\u001b[0m\u001b[0mappend\u001b[0m\u001b[1;33m(\u001b[0m\u001b[0mi\u001b[0m\u001b[1;33m)\u001b[0m\u001b[1;33m\u001b[0m\u001b[1;33m\u001b[0m\u001b[0m\n\u001b[1;32m----> 7\u001b[1;33m \u001b[1;32mfor\u001b[0m \u001b[0mi\u001b[0m \u001b[1;32min\u001b[0m \u001b[0mcombinations\u001b[0m\u001b[1;33m(\u001b[0m\u001b[0ml\u001b[0m\u001b[1;33m,\u001b[0m\u001b[0mrepeat\u001b[0m\u001b[1;33m=\u001b[0m\u001b[0mk\u001b[0m\u001b[1;33m)\u001b[0m\u001b[1;33m:\u001b[0m\u001b[1;33m\u001b[0m\u001b[1;33m\u001b[0m\u001b[0m\n\u001b[0m\u001b[0;32m      8\u001b[0m     \u001b[0mprint\u001b[0m\u001b[1;33m(\u001b[0m\u001b[0mi\u001b[0m\u001b[1;33m)\u001b[0m\u001b[1;33m\u001b[0m\u001b[1;33m\u001b[0m\u001b[0m\n",
      "\u001b[1;31mTypeError\u001b[0m: combinations() missing required argument 'r' (pos 2)"
     ]
    }
   ],
   "source": [
    "from itertools import combinations\n",
    "n=int(input())\n",
    "k=int(input())\n",
    "l=[]\n",
    "for i in range(1,n+1):\n",
    "    l.append(i)\n",
    "for i in combinations(l,k):\n",
    "    print(i)"
   ]
  },
  {
   "cell_type": "code",
   "execution_count": 70,
   "metadata": {},
   "outputs": [
    {
     "name": "stdout",
     "output_type": "stream",
     "text": [
      "5\n",
      "6\n",
      "40 [[1, 1, 1, 1, 1, 1], [1, 1, 1, 1, 1, 2], [1, 1, 1, 1, 1, 3], [1, 1, 1, 1, 1, 4], [1, 1, 1, 1, 1, 5], [1, 1, 1, 1, 2, 2], [1, 1, 1, 1, 2, 4], [1, 1, 1, 1, 3, 3], [1, 1, 1, 1, 4, 4], [1, 1, 1, 1, 5, 5], [1, 1, 1, 2, 2, 2], [1, 1, 1, 2, 2, 4], [1, 1, 1, 2, 4, 4], [1, 1, 1, 3, 3, 3], [1, 1, 1, 4, 4, 4], [1, 1, 1, 5, 5, 5], [1, 1, 2, 2, 2, 2], [1, 1, 2, 2, 2, 4], [1, 1, 2, 2, 4, 4], [1, 1, 2, 4, 4, 4], [1, 1, 3, 3, 3, 3], [1, 1, 4, 4, 4, 4], [1, 1, 5, 5, 5, 5], [1, 2, 2, 2, 2, 2], [1, 2, 2, 2, 2, 4], [1, 2, 2, 2, 4, 4], [1, 2, 2, 4, 4, 4], [1, 2, 4, 4, 4, 4], [1, 3, 3, 3, 3, 3], [1, 4, 4, 4, 4, 4], [1, 5, 5, 5, 5, 5], [2, 2, 2, 2, 2, 2], [2, 2, 2, 2, 2, 4], [2, 2, 2, 2, 4, 4], [2, 2, 2, 4, 4, 4], [2, 2, 4, 4, 4, 4], [2, 4, 4, 4, 4, 4], [3, 3, 3, 3, 3, 3], [4, 4, 4, 4, 4, 4], [5, 5, 5, 5, 5, 5]]\n"
     ]
    }
   ],
   "source": [
    "from itertools import product\n",
    "n=int(input())\n",
    "k=int(input())\n",
    "l=[]\n",
    "for i in range(1,n+1):\n",
    "    l.append(i)\n",
    "    \n",
    "a=[]\n",
    "for i in product(l, repeat =k):\n",
    "    a.append(list(i))\n",
    "#print(a)\n",
    "r=0\n",
    "r1=[]\n",
    "for i in a:\n",
    "    c=0\n",
    "    for j in range(len(i)-1):\n",
    "        if(i[j+1]%i[j]==0):\n",
    "            c=c+1\n",
    "    if c==k-1:\n",
    "        r1.append(i)\n",
    "        r=r+1\n",
    "print(r,r1)"
   ]
  },
  {
   "cell_type": "code",
   "execution_count": null,
   "metadata": {},
   "outputs": [],
   "source": [
    "def comb(l,k,lo):\n",
    "    "
   ]
  },
  {
   "cell_type": "code",
   "execution_count": 11,
   "metadata": {},
   "outputs": [
    {
     "name": "stdout",
     "output_type": "stream",
     "text": [
      "t\n",
      "e\n",
      "t\n",
      "a\n",
      "a\n",
      "t\n",
      "e\n",
      "t\n",
      "e\n",
      "t\n",
      "e\n",
      "[2, 1, -1]\n"
     ]
    }
   ],
   "source": [
    "def getminimumDifference(a,b):\n",
    "    r=[]\n",
    "    for i in range(len(a)):\n",
    "        if(len(a[i]) == len(b[i])):\n",
    "            c1=0\n",
    "            c2=0\n",
    "            for j in a[i]:\n",
    "                if j in b[i]:\n",
    "                    c1=c1+1\n",
    "            c1=len(a[i])-c1\n",
    "            for j in b[i]:\n",
    "                if j in a[i]:\n",
    "                    c2=c2+1\n",
    "            c2=len(b[i])-c2\n",
    "            r.append(max(c1,c2))\n",
    "        else:\n",
    "            a=-1\n",
    "            r.append(a)\n",
    "    return r\n",
    "a=['teqta','tea','act']\n",
    "b=['atwse','toe','acts']\n",
    "print(getminimumDifference(a,b))\n",
    "            \n"
   ]
  },
  {
   "cell_type": "code",
   "execution_count": null,
   "metadata": {},
   "outputs": [],
   "source": [
    "def get(a,b):\n",
    "    r=[]\n",
    "    for i in range(len(a)):\n",
    "        "
   ]
  },
  {
   "cell_type": "code",
   "execution_count": 6,
   "metadata": {},
   "outputs": [
    {
     "name": "stdout",
     "output_type": "stream",
     "text": [
      "abcdef\n",
      "abc\n",
      "cd\n",
      "f\n",
      "2\n"
     ]
    }
   ],
   "source": [
    "input1=input()\n",
    "input2=input()\n",
    "input3=input()\n",
    "input4=input()\n",
    "r=input1.replace(input2,\"\")\n",
    "r=r.replace(input,\"\")\n",
    "r=r.replace(f,\"\")\n",
    "print(len(r))"
   ]
  },
  {
   "cell_type": "code",
   "execution_count": 9,
   "metadata": {},
   "outputs": [
    {
     "name": "stdout",
     "output_type": "stream",
     "text": [
      "6\n",
      "4\n",
      "2\n",
      "5\n",
      "1\n",
      "3\n",
      "6\n",
      "1\n",
      "2\n",
      "4\n",
      "5\n",
      "3\n",
      "6\n",
      "4 5 2 6 3 1 "
     ]
    },
    {
     "ename": "TypeError",
     "evalue": "'NoneType' object is not subscriptable",
     "output_type": "error",
     "traceback": [
      "\u001b[1;31m---------------------------------------------------------------------------\u001b[0m",
      "\u001b[1;31mTypeError\u001b[0m                                 Traceback (most recent call last)",
      "\u001b[1;32m<ipython-input-9-50b0fe3bd361>\u001b[0m in \u001b[0;36m<module>\u001b[1;34m\u001b[0m\n\u001b[0;32m     32\u001b[0m \u001b[1;33m\u001b[0m\u001b[0m\n\u001b[0;32m     33\u001b[0m \u001b[0mpo\u001b[0m\u001b[1;33m=\u001b[0m\u001b[0mprintPostMain\u001b[0m\u001b[1;33m(\u001b[0m\u001b[0minn\u001b[0m\u001b[1;33m,\u001b[0m \u001b[0mpre\u001b[0m\u001b[1;33m,\u001b[0m \u001b[0mn\u001b[0m\u001b[1;33m)\u001b[0m\u001b[1;33m\u001b[0m\u001b[1;33m\u001b[0m\u001b[0m\n\u001b[1;32m---> 34\u001b[1;33m \u001b[0mprint\u001b[0m\u001b[1;33m(\u001b[0m\u001b[0mpo\u001b[0m\u001b[1;33m[\u001b[0m\u001b[1;36m0\u001b[0m\u001b[1;33m:\u001b[0m\u001b[0mn\u001b[0m\u001b[1;33m]\u001b[0m\u001b[1;33m)\u001b[0m\u001b[1;33m\u001b[0m\u001b[1;33m\u001b[0m\u001b[0m\n\u001b[0m",
      "\u001b[1;31mTypeError\u001b[0m: 'NoneType' object is not subscriptable"
     ]
    }
   ],
   "source": [
    "def printPost(inn, pre, s,e):\n",
    "    global prei, a\n",
    "    if (s > e):\n",
    "        return\n",
    "    ini = a[pre[prei]]\n",
    "    prei += 1\n",
    "    printPost(inn, pre,s, ini - 1)\n",
    "\n",
    "    printPost(inn, pre, ini + 1, e)\n",
    "\n",
    "    print(inn[ini], end = \" \")\n",
    " \n",
    "def printPostMain(inn, pre, n):\n",
    "    for i in range(n):\n",
    "        a[inn[i]] = i\n",
    " \n",
    "    printPost(inn, pre, 0, n - 1)\n",
    " \n",
    "n=int(input())\n",
    "inn=[]\n",
    "pre=[]\n",
    "a={}\n",
    "prei=0\n",
    "for i in range(n):\n",
    "    c=int(input())\n",
    "    inn.append(c)\n",
    "for i in range(n):\n",
    "    b=int(input())\n",
    "    pre.append(b)\n",
    "    \n",
    "\n",
    " \n",
    "po=printPostMain(inn, pre, n)\n",
    "print(po[0:n])"
   ]
  },
  {
   "cell_type": "code",
   "execution_count": null,
   "metadata": {},
   "outputs": [],
   "source": [
    "c=0\n",
    "for i in range(input1):\n",
    "    a=input3[i][0]\n",
    "    if input4[a-1]>0:\n",
    "        c=c+1\n",
    "        input4[a-1]=input4[a-1]-1\n",
    "return(c)\n"
   ]
  },
  {
   "cell_type": "code",
   "execution_count": 2,
   "metadata": {},
   "outputs": [
    {
     "name": "stdout",
     "output_type": "stream",
     "text": [
      "-1\n"
     ]
    }
   ],
   "source": [
    "print(-1)"
   ]
  },
  {
   "cell_type": "code",
   "execution_count": 12,
   "metadata": {},
   "outputs": [
    {
     "name": "stdout",
     "output_type": "stream",
     "text": [
      "[6, 2, 3, 4]\n"
     ]
    }
   ],
   "source": [
    "input1=16\n",
    "input2=4\n",
    "r=[]\n",
    "c=0\n",
    "for i in range(input2):\n",
    "    if(input1>0 and input1>=c+1):\n",
    "        c=c+1\n",
    "        input1=input1-c\n",
    "        r.append(c)\n",
    "    else:\n",
    "        b=input1\n",
    "        input1=0\n",
    "        r.append(b)\n",
    "        \n",
    "    \n",
    "j=0\n",
    "while(input1>0 and input1>+input2+j+1):\n",
    "    a=input2+j+1\n",
    "    r[j]=r[j]+a\n",
    "    j=j+1\n",
    "    input1=input1-a\n",
    "print(r)\n",
    "\n",
    "        \n",
    "    "
   ]
  },
  {
   "cell_type": "code",
   "execution_count": null,
   "metadata": {},
   "outputs": [],
   "source": [
    "if(sorted(input1)==sorted(input2)):\n",
    "    a=\"yes\"\n",
    "else:\n",
    "    a\n",
    "    "
   ]
  },
  {
   "cell_type": "code",
   "execution_count": 18,
   "metadata": {},
   "outputs": [
    {
     "ename": "IndexError",
     "evalue": "list index out of range",
     "output_type": "error",
     "traceback": [
      "\u001b[1;31m---------------------------------------------------------------------------\u001b[0m",
      "\u001b[1;31mIndexError\u001b[0m                                Traceback (most recent call last)",
      "\u001b[1;32m<ipython-input-18-e04f9f3ecf16>\u001b[0m in \u001b[0;36m<module>\u001b[1;34m\u001b[0m\n\u001b[0;32m     17\u001b[0m \u001b[1;33m\u001b[0m\u001b[0m\n\u001b[0;32m     18\u001b[0m \u001b[0marr\u001b[0m \u001b[1;33m=\u001b[0m\u001b[1;34m\"335\"\u001b[0m\u001b[1;33m\u001b[0m\u001b[1;33m\u001b[0m\u001b[0m\n\u001b[1;32m---> 19\u001b[1;33m \u001b[0mprint\u001b[0m\u001b[1;33m(\u001b[0m\u001b[0mn_length_combo\u001b[0m\u001b[1;33m(\u001b[0m\u001b[1;33m[\u001b[0m\u001b[0mx\u001b[0m \u001b[1;32mfor\u001b[0m \u001b[0mx\u001b[0m \u001b[1;32min\u001b[0m \u001b[0marr\u001b[0m\u001b[1;33m]\u001b[0m\u001b[1;33m,\u001b[0m \u001b[1;36m2\u001b[0m\u001b[1;33m)\u001b[0m\u001b[1;33m)\u001b[0m\u001b[1;33m\u001b[0m\u001b[1;33m\u001b[0m\u001b[0m\n\u001b[0m",
      "\u001b[1;32m<ipython-input-18-e04f9f3ecf16>\u001b[0m in \u001b[0;36mn_length_combo\u001b[1;34m(lst, n)\u001b[0m\n\u001b[0;32m     10\u001b[0m                 \u001b[0mremLst\u001b[0m \u001b[1;33m=\u001b[0m \u001b[0mlst\u001b[0m\u001b[1;33m[\u001b[0m\u001b[0mi\u001b[0m \u001b[1;33m+\u001b[0m \u001b[1;36m1\u001b[0m\u001b[1;33m:\u001b[0m\u001b[1;33m]\u001b[0m\u001b[1;33m\u001b[0m\u001b[1;33m\u001b[0m\u001b[0m\n\u001b[0;32m     11\u001b[0m \u001b[1;33m\u001b[0m\u001b[0m\n\u001b[1;32m---> 12\u001b[1;33m                 \u001b[1;32mfor\u001b[0m \u001b[0mp\u001b[0m \u001b[1;32min\u001b[0m \u001b[0mn_length_combo\u001b[0m\u001b[1;33m(\u001b[0m\u001b[0mremLst\u001b[0m\u001b[1;33m,\u001b[0m \u001b[0mn\u001b[0m\u001b[1;33m-\u001b[0m\u001b[1;36m1\u001b[0m\u001b[1;33m)\u001b[0m\u001b[1;33m:\u001b[0m\u001b[1;33m\u001b[0m\u001b[1;33m\u001b[0m\u001b[0m\n\u001b[0m\u001b[0;32m     13\u001b[0m                         \u001b[0ml\u001b[0m\u001b[1;33m.\u001b[0m\u001b[0mappend\u001b[0m\u001b[1;33m(\u001b[0m\u001b[1;33m[\u001b[0m\u001b[0mm\u001b[0m\u001b[1;33m]\u001b[0m\u001b[1;33m+\u001b[0m\u001b[0mp\u001b[0m\u001b[1;33m)\u001b[0m\u001b[1;33m\u001b[0m\u001b[1;33m\u001b[0m\u001b[0m\n\u001b[0;32m     14\u001b[0m \u001b[1;33m\u001b[0m\u001b[0m\n",
      "\u001b[1;32m<ipython-input-18-e04f9f3ecf16>\u001b[0m in \u001b[0;36mn_length_combo\u001b[1;34m(lst, n)\u001b[0m\n\u001b[0;32m      7\u001b[0m         \u001b[1;32mfor\u001b[0m \u001b[0mi\u001b[0m \u001b[1;32min\u001b[0m \u001b[0mrange\u001b[0m\u001b[1;33m(\u001b[0m\u001b[1;36m0\u001b[0m\u001b[1;33m,\u001b[0m \u001b[0mlen\u001b[0m\u001b[1;33m(\u001b[0m\u001b[0mlst\u001b[0m\u001b[1;33m)\u001b[0m\u001b[1;33m+\u001b[0m\u001b[1;36m1\u001b[0m\u001b[1;33m)\u001b[0m\u001b[1;33m:\u001b[0m\u001b[1;33m\u001b[0m\u001b[1;33m\u001b[0m\u001b[0m\n\u001b[0;32m      8\u001b[0m \u001b[1;33m\u001b[0m\u001b[0m\n\u001b[1;32m----> 9\u001b[1;33m                 \u001b[0mm\u001b[0m \u001b[1;33m=\u001b[0m \u001b[0mlst\u001b[0m\u001b[1;33m[\u001b[0m\u001b[0mi\u001b[0m\u001b[1;33m]\u001b[0m\u001b[1;33m\u001b[0m\u001b[1;33m\u001b[0m\u001b[0m\n\u001b[0m\u001b[0;32m     10\u001b[0m                 \u001b[0mremLst\u001b[0m \u001b[1;33m=\u001b[0m \u001b[0mlst\u001b[0m\u001b[1;33m[\u001b[0m\u001b[0mi\u001b[0m \u001b[1;33m+\u001b[0m \u001b[1;36m1\u001b[0m\u001b[1;33m:\u001b[0m\u001b[1;33m]\u001b[0m\u001b[1;33m\u001b[0m\u001b[1;33m\u001b[0m\u001b[0m\n\u001b[0;32m     11\u001b[0m \u001b[1;33m\u001b[0m\u001b[0m\n",
      "\u001b[1;31mIndexError\u001b[0m: list index out of range"
     ]
    }
   ],
   "source": [
    "def n_length_combo(lst, n):\n",
    "\t\n",
    "\tif n == 0:\n",
    "\t\treturn [[]]\n",
    "\t\n",
    "\tl =[]\n",
    "\tfor i in range(0, len(lst)):\n",
    "\t\t\n",
    "\t\tm = lst[i]\n",
    "\t\tremLst = lst[i + 1:]\n",
    "\t\t\n",
    "\t\tfor p in n_length_combo(remLst, n-1):\n",
    "\t\t\tl.append([m]+p)\n",
    "\t\t\t\n",
    "\treturn l\n",
    "\n",
    "\n",
    "arr =\"335\"\n",
    "print(n_length_combo([x for x in arr], 2))"
   ]
  },
  {
   "cell_type": "code",
   "execution_count": 15,
   "metadata": {},
   "outputs": [
    {
     "ename": "IndentationError",
     "evalue": "unindent does not match any outer indentation level (<tokenize>, line 4)",
     "output_type": "error",
     "traceback": [
      "\u001b[1;36m  File \u001b[1;32m\"<tokenize>\"\u001b[1;36m, line \u001b[1;32m4\u001b[0m\n\u001b[1;33m    l =[]\u001b[0m\n\u001b[1;37m    ^\u001b[0m\n\u001b[1;31mIndentationError\u001b[0m\u001b[1;31m:\u001b[0m unindent does not match any outer indentation level\n"
     ]
    }
   ],
   "source": [
    "if n == 0:\n",
    "\t\treturn [[]]\n",
    "\t\n",
    "\tl =[]\n",
    "\tfor i in range(0, len(lst)):\n",
    "\t\t\n",
    "\t\tm = lst[i]\n",
    "\t\tremLst = lst[i + 1:]\n",
    "\t\t\n",
    "\t\tfor p in n_length_combo(remLst, n-1):\n",
    "\t\t\tl.append([m]+p)\n",
    "\t\t\t\n",
    "\tprint(l)"
   ]
  },
  {
   "cell_type": "code",
   "execution_count": 36,
   "metadata": {},
   "outputs": [
    {
     "name": "stdout",
     "output_type": "stream",
     "text": [
      "[6, 8, 10, 8]\n"
     ]
    }
   ],
   "source": [
    "n=32\n",
    "m=4\n",
    "r=[0]*m\n",
    "j=0\n",
    "k=0\n",
    "while(n>=k and n>=k+i+1):\n",
    "    i=(j%m)\n",
    "    r[i]=r[i]+k+i+1\n",
    "    n=n-(k+i+1)\n",
    "    if(i==m-1):\n",
    "        k=m\n",
    "    j=j+1\n",
    "if(n>0):\n",
    "    r[j%m]=r[j%m]+n\n",
    "print(r)\n",
    "    \n",
    "    \n",
    "    \n",
    "    "
   ]
  },
  {
   "cell_type": "code",
   "execution_count": 38,
   "metadata": {},
   "outputs": [
    {
     "name": "stdout",
     "output_type": "stream",
     "text": [
      "1 2 3 4\n"
     ]
    }
   ],
   "source": [
    "N=7\n",
    "i=1\n",
    "k=4\n",
    "data = [0]*(k)\n",
    "\n",
    "while(N>0):\n",
    "    data[(i-1)%k] += i\n",
    "    N -= i\n",
    "    i += 1\n",
    "    \n",
    "print(*data)"
   ]
  },
  {
   "cell_type": "code",
   "execution_count": 42,
   "metadata": {},
   "outputs": [
    {
     "name": "stdout",
     "output_type": "stream",
     "text": [
      "2\n"
     ]
    }
   ],
   "source": [
    "a=1\n",
    "b=2\n",
    "c=[[1,0,0,0,0],[0,0,0,0,1]]\n",
    "d=[[1,0,0,0,1]]\n",
    "e=2\n",
    "f=[[1,1],[1,2]]\n",
    "r=0\n",
    "for i in range(e):\n",
    "    x=f[i][0]\n",
    "    y=f[i][1]\n",
    "    for j in range(5):\n",
    "        if(d[x-1][j]==c[y-1][j]==1):\n",
    "            r=r+1\n",
    "print(r)\n",
    "        "
   ]
  },
  {
   "cell_type": "code",
   "execution_count": 6,
   "metadata": {},
   "outputs": [
    {
     "name": "stdout",
     "output_type": "stream",
     "text": [
      "0.30000000000000004\n"
     ]
    }
   ],
   "source": [
    "print(0.1+0.2)"
   ]
  },
  {
   "cell_type": "code",
   "execution_count": null,
   "metadata": {},
   "outputs": [],
   "source": []
  }
 ],
 "metadata": {
  "kernelspec": {
   "display_name": "Python 3",
   "language": "python",
   "name": "python3"
  },
  "language_info": {
   "codemirror_mode": {
    "name": "ipython",
    "version": 3
   },
   "file_extension": ".py",
   "mimetype": "text/x-python",
   "name": "python",
   "nbconvert_exporter": "python",
   "pygments_lexer": "ipython3",
   "version": "3.8.5"
  }
 },
 "nbformat": 4,
 "nbformat_minor": 4
}
